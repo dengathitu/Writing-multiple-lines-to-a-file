{
  "nbformat": 4,
  "nbformat_minor": 0,
  "metadata": {
    "colab": {
      "provenance": [],
      "authorship_tag": "ABX9TyNygfE9faR5CEjH7yw1ktZh",
      "include_colab_link": true
    },
    "kernelspec": {
      "name": "python3",
      "display_name": "Python 3"
    },
    "language_info": {
      "name": "python"
    }
  },
  "cells": [
    {
      "cell_type": "markdown",
      "metadata": {
        "id": "view-in-github",
        "colab_type": "text"
      },
      "source": [
        "<a href=\"https://colab.research.google.com/github/dengathitu/Writing-multiple-lines-to-a-file/blob/main/Writing_multiple_lines_to_a_file.ipynb\" target=\"_parent\"><img src=\"https://colab.research.google.com/assets/colab-badge.svg\" alt=\"Open In Colab\"/></a>"
      ]
    },
    {
      "cell_type": "markdown",
      "source": [
        "# Writing multiple lines to a file using a list and loop\n",
        "The code sinippet below writes several lines using for loop."
      ],
      "metadata": {
        "id": "MxDT4LEwmDdQ"
      }
    },
    {
      "cell_type": "code",
      "execution_count": 5,
      "metadata": {
        "id": "lGpue1jKmCC8"
      },
      "outputs": [],
      "source": [
        "# first create a list named x\n",
        "\n",
        "X = [\"Den is a simple student\", \"He is a student at Gisma University of Applied Sciences\", \"He is learning Data Science\", \"Ist sehr gut!\"]\n",
        "\n",
        "#Create a new file introduction.txt for writing"
      ]
    },
    {
      "cell_type": "code",
      "source": [
        "with open(\"introduction.txt\", \"w\") as f:\n",
        "    for line in X:\n",
        "        f.write(line + \"\\n\")"
      ],
      "metadata": {
        "id": "pE18j6nEqYg3"
      },
      "execution_count": 11,
      "outputs": []
    },
    {
      "cell_type": "code",
      "source": [
        "open(\"introduction.txt\", \"r\").read()"
      ],
      "metadata": {
        "colab": {
          "base_uri": "https://localhost:8080/",
          "height": 52
        },
        "id": "bGkEo2-oqeOM",
        "outputId": "0bb16824-7fdf-40db-b549-98ad4ab4efa7"
      },
      "execution_count": 12,
      "outputs": [
        {
          "output_type": "execute_result",
          "data": {
            "text/plain": [
              "'Den is a simple student\\nHe is a student at Gisma University of Applied Sciences\\nHe is learning Data Science\\nIst sehr gut!\\n'"
            ],
            "application/vnd.google.colaboratory.intrinsic+json": {
              "type": "string"
            }
          },
          "metadata": {},
          "execution_count": 12
        }
      ]
    },
    {
      "cell_type": "code",
      "source": [
        "open(\"introduction.txt\", \"r\").readlines()"
      ],
      "metadata": {
        "colab": {
          "base_uri": "https://localhost:8080/"
        },
        "id": "PuBgkVdpq0qs",
        "outputId": "1505322f-ce9b-4dbb-c671-a0e90ad09969"
      },
      "execution_count": 13,
      "outputs": [
        {
          "output_type": "execute_result",
          "data": {
            "text/plain": [
              "['Den is a simple student\\n',\n",
              " 'He is a student at Gisma University of Applied Sciences\\n',\n",
              " 'He is learning Data Science\\n',\n",
              " 'Ist sehr gut!\\n']"
            ]
          },
          "metadata": {},
          "execution_count": 13
        }
      ]
    },
    {
      "cell_type": "code",
      "source": [
        "open(\"introduction.txt\", \"r\").readline(23)"
      ],
      "metadata": {
        "colab": {
          "base_uri": "https://localhost:8080/",
          "height": 35
        },
        "id": "psZ4yU1yrAmP",
        "outputId": "2fd37729-bf11-40f3-e1c8-9b4c9c359263"
      },
      "execution_count": 18,
      "outputs": [
        {
          "output_type": "execute_result",
          "data": {
            "text/plain": [
              "'Den is a simple student'"
            ],
            "application/vnd.google.colaboratory.intrinsic+json": {
              "type": "string"
            }
          },
          "metadata": {},
          "execution_count": 18
        }
      ]
    }
  ]
}